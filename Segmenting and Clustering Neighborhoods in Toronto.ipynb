{
    "cells": [
        {
            "metadata": {},
            "cell_type": "code",
            "source": "from bs4 import BeautifulSoup\nimport requests\nimport pandas as pd\nimport numpy as np\nimport re\n\n# \uacbd\ub85c\uc800\uc7a5\nurl = 'https://en.wikipedia.org/wiki/List_of_postal_codes_of_Canada:_M'",
            "execution_count": 41,
            "outputs": []
        },
        {
            "metadata": {},
            "cell_type": "code",
            "source": "# \uacbd\ub85c\uc800\uc7a5\nurl = 'https://en.wikipedia.org/wiki/List_of_postal_codes_of_Canada:_M'",
            "execution_count": 42,
            "outputs": []
        },
        {
            "metadata": {},
            "cell_type": "code",
            "source": "# \uacbd\ub85c\uc800\uc7a5\nres = requests.get(url).content.decode()",
            "execution_count": 43,
            "outputs": []
        },
        {
            "metadata": {},
            "cell_type": "code",
            "source": "#html \ud30c\uc2f1\nsoup = BeautifulSoup(res, 'html.parser')",
            "execution_count": 44,
            "outputs": []
        },
        {
            "metadata": {},
            "cell_type": "code",
            "source": "#tr tag \uc800\uc7a5\nheaders = soup.find('tr')",
            "execution_count": 45,
            "outputs": []
        },
        {
            "metadata": {},
            "cell_type": "code",
            "source": "#tr tAG \ub0b4 td tag\ubcc4 array \uc0dd\uc131\nnext_rows = [[td.get_text(strip=True) for td in row('td')] for row in headers.find_next_siblings(\"tr\")]",
            "execution_count": 46,
            "outputs": []
        },
        {
            "metadata": {},
            "cell_type": "code",
            "source": "#Dataframe \uc0dd\uc131\ndf=pd.DataFrame(next_rows, columns=['Postal Code', 'Borough','Neighborhood'])",
            "execution_count": 47,
            "outputs": []
        },
        {
            "metadata": {},
            "cell_type": "code",
            "source": "#\uc9c0\uc815\ub418\uc9c0 \uc54a\uc740 \uc790\uce58\uad6c \uc81c\uac70\ndf=df.loc[~df['Neighborhood'].str.contains('Not assigned')]\ndf=df.loc[~df['Borough'].str.contains('Not assigned')] ",
            "execution_count": 48,
            "outputs": []
        },
        {
            "metadata": {},
            "cell_type": "code",
            "source": "#\ucd9c\ub825\ndf",
            "execution_count": null,
            "outputs": []
        },
        {
            "metadata": {},
            "cell_type": "code",
            "source": "#Dataframe \ud615\ud0dc \ucd9c\ub825\ndf.shape",
            "execution_count": null,
            "outputs": []
        }
    ],
    "metadata": {
        "kernelspec": {
            "name": "python3",
            "display_name": "Python 3.6",
            "language": "python"
        },
        "language_info": {
            "name": "python",
            "version": "3.6.9",
            "mimetype": "text/x-python",
            "codemirror_mode": {
                "name": "ipython",
                "version": 3
            },
            "pygments_lexer": "ipython3",
            "nbconvert_exporter": "python",
            "file_extension": ".py"
        }
    },
    "nbformat": 4,
    "nbformat_minor": 1
}